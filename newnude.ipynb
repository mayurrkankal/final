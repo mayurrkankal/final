{
 "cells": [
  {
   "cell_type": "code",
   "execution_count": null,
   "id": "f7f8edac",
   "metadata": {},
   "outputs": [],
   "source": []
  },
  {
   "cell_type": "code",
   "execution_count": 1,
   "id": "c2781327",
   "metadata": {},
   "outputs": [],
   "source": [
    "import tensorflow as tf\n",
    "from keras.models import Sequential\n",
    "from keras.layers import Conv2D, MaxPooling2D, Flatten, Dense ,Dropout,BatchNormalization\n",
    "from keras.preprocessing.image import ImageDataGenerator"
   ]
  },
  {
   "cell_type": "code",
   "execution_count": 2,
   "id": "3a48c2e5",
   "metadata": {},
   "outputs": [
    {
     "name": "stdout",
     "output_type": "stream",
     "text": [
      "Found 19697 images belonging to 2 classes.\n",
      "Found 10561 images belonging to 2 classes.\n"
     ]
    }
   ],
   "source": [
    "# Load and preprocess the data\n",
    "train_datagen = ImageDataGenerator(rescale = 1./255,rotation_range=20, width_shift_range=0.2, height_shift_range=0.2, shear_range=0.2, zoom_range=0.2, horizontal_flip=True)\n",
    "test_datagen = ImageDataGenerator(rescale = 1./255)\n",
    "\n",
    "training_set = train_datagen.flow_from_directory('F:/newdata/train', target_size = (256, 256), batch_size = 32, class_mode = 'binary')\n",
    "test_set = test_datagen.flow_from_directory('F:/newdata/test', target_size = (256, 256), batch_size = 32, class_mode = 'binary')"
   ]
  },
  {
   "cell_type": "code",
   "execution_count": null,
   "id": "dda3dcff",
   "metadata": {},
   "outputs": [],
   "source": []
  },
  {
   "cell_type": "code",
   "execution_count": 13,
   "id": "0a749dee",
   "metadata": {},
   "outputs": [],
   "source": []
  },
  {
   "cell_type": "code",
   "execution_count": 3,
   "id": "19272d88",
   "metadata": {},
   "outputs": [],
   "source": [
    "# Define the model architecture\n",
    "model = Sequential()\n",
    "\n",
    "model.add(Conv2D(32, (3, 3), input_shape=(256, 256, 3), activation='relu'))\n",
    "model.add(MaxPooling2D(pool_size=(2, 2)))\n",
    "model.add(BatchNormalization(synchronized=True))\n",
    "model.add(Dropout(0.25))\n",
    "\n",
    "model.add(Conv2D(64, (3, 3), activation='relu'))\n",
    "model.add(MaxPooling2D(pool_size=(2, 2)))\n",
    "model.add(BatchNormalization(synchronized=True))\n",
    "model.add(Dropout(0.25))\n",
    "\n",
    "model.add(Conv2D(128, (3, 3), activation='relu'))\n",
    "model.add(MaxPooling2D(pool_size=(2, 2)))\n",
    "model.add(BatchNormalization(synchronized=True))\n",
    "model.add(Dropout(0.25))\n",
    "\n",
    "model.add(Flatten())\n",
    "model.add(Dense(512, activation='relu'))\n",
    "model.add(Dropout(0.5))\n",
    "model.add(Dense(1, activation='sigmoid'))\n"
   ]
  },
  {
   "cell_type": "code",
   "execution_count": null,
   "id": "f7a32828",
   "metadata": {},
   "outputs": [],
   "source": []
  },
  {
   "cell_type": "code",
   "execution_count": 4,
   "id": "b12dda38",
   "metadata": {},
   "outputs": [
    {
     "name": "stdout",
     "output_type": "stream",
     "text": [
      "Model: \"sequential\"\n",
      "_________________________________________________________________\n",
      " Layer (type)                Output Shape              Param #   \n",
      "=================================================================\n",
      " conv2d (Conv2D)             (None, 254, 254, 32)      896       \n",
      "                                                                 \n",
      " max_pooling2d (MaxPooling2D  (None, 127, 127, 32)     0         \n",
      " )                                                               \n",
      "                                                                 \n",
      " batch_normalization (BatchN  (None, 127, 127, 32)     128       \n",
      " ormalization)                                                   \n",
      "                                                                 \n",
      " dropout (Dropout)           (None, 127, 127, 32)      0         \n",
      "                                                                 \n",
      " conv2d_1 (Conv2D)           (None, 125, 125, 64)      18496     \n",
      "                                                                 \n",
      " max_pooling2d_1 (MaxPooling  (None, 62, 62, 64)       0         \n",
      " 2D)                                                             \n",
      "                                                                 \n",
      " batch_normalization_1 (Batc  (None, 62, 62, 64)       256       \n",
      " hNormalization)                                                 \n",
      "                                                                 \n",
      " dropout_1 (Dropout)         (None, 62, 62, 64)        0         \n",
      "                                                                 \n",
      " conv2d_2 (Conv2D)           (None, 60, 60, 128)       73856     \n",
      "                                                                 \n",
      " max_pooling2d_2 (MaxPooling  (None, 30, 30, 128)      0         \n",
      " 2D)                                                             \n",
      "                                                                 \n",
      " batch_normalization_2 (Batc  (None, 30, 30, 128)      512       \n",
      " hNormalization)                                                 \n",
      "                                                                 \n",
      " dropout_2 (Dropout)         (None, 30, 30, 128)       0         \n",
      "                                                                 \n",
      " flatten (Flatten)           (None, 115200)            0         \n",
      "                                                                 \n",
      " dense (Dense)               (None, 512)               58982912  \n",
      "                                                                 \n",
      " dropout_3 (Dropout)         (None, 512)               0         \n",
      "                                                                 \n",
      " dense_1 (Dense)             (None, 1)                 513       \n",
      "                                                                 \n",
      "=================================================================\n",
      "Total params: 59,077,569\n",
      "Trainable params: 59,077,121\n",
      "Non-trainable params: 448\n",
      "_________________________________________________________________\n"
     ]
    }
   ],
   "source": [
    "model.summary()"
   ]
  },
  {
   "cell_type": "code",
   "execution_count": 5,
   "id": "fdb23f92",
   "metadata": {},
   "outputs": [],
   "source": [
    "# Compile the model\n",
    "model.compile(optimizer = 'adam', loss = 'binary_crossentropy', metrics = ['accuracy'])"
   ]
  },
  {
   "cell_type": "code",
   "execution_count": null,
   "id": "517e92b6",
   "metadata": {},
   "outputs": [],
   "source": []
  },
  {
   "cell_type": "code",
   "execution_count": 6,
   "id": "8266553e",
   "metadata": {},
   "outputs": [],
   "source": [
    "callback = tf.keras.callbacks.EarlyStopping(monitor='val_loss',mode='auto',verbose=1, patience=10)"
   ]
  },
  {
   "cell_type": "code",
   "execution_count": null,
   "id": "52c110a4",
   "metadata": {},
   "outputs": [],
   "source": []
  },
  {
   "cell_type": "code",
   "execution_count": 7,
   "id": "b47290b2",
   "metadata": {},
   "outputs": [
    {
     "name": "stdout",
     "output_type": "stream",
     "text": [
      "Epoch 1/100\n",
      "616/616 [==============================] - 2927s 5s/step - loss: 6.3376 - accuracy: 0.6601 - val_loss: 0.7529 - val_accuracy: 0.6916\n",
      "Epoch 2/100\n",
      "616/616 [==============================] - 2733s 4s/step - loss: 0.6235 - accuracy: 0.7132 - val_loss: 0.5696 - val_accuracy: 0.7319\n",
      "Epoch 3/100\n",
      "616/616 [==============================] - 2582s 4s/step - loss: 0.5639 - accuracy: 0.7348 - val_loss: 0.9698 - val_accuracy: 0.6007\n",
      "Epoch 4/100\n",
      "616/616 [==============================] - 2617s 4s/step - loss: 0.5323 - accuracy: 0.7451 - val_loss: 0.4822 - val_accuracy: 0.7692\n",
      "Epoch 5/100\n",
      "616/616 [==============================] - 2586s 4s/step - loss: 0.5274 - accuracy: 0.7485 - val_loss: 0.5714 - val_accuracy: 0.7057\n",
      "Epoch 6/100\n",
      "616/616 [==============================] - 2661s 4s/step - loss: 0.5246 - accuracy: 0.7529 - val_loss: 0.4546 - val_accuracy: 0.7799\n",
      "Epoch 7/100\n",
      "616/616 [==============================] - 2660s 4s/step - loss: 0.5228 - accuracy: 0.7513 - val_loss: 0.4922 - val_accuracy: 0.7883\n",
      "Epoch 8/100\n",
      "616/616 [==============================] - 2725s 4s/step - loss: 0.5039 - accuracy: 0.7634 - val_loss: 0.4355 - val_accuracy: 0.8064\n",
      "Epoch 9/100\n",
      "616/616 [==============================] - 2627s 4s/step - loss: 0.4942 - accuracy: 0.7697 - val_loss: 0.7302 - val_accuracy: 0.6601\n",
      "Epoch 10/100\n",
      "616/616 [==============================] - 2638s 4s/step - loss: 0.4745 - accuracy: 0.7802 - val_loss: 0.7608 - val_accuracy: 0.6866\n",
      "Epoch 11/100\n",
      "616/616 [==============================] - 2642s 4s/step - loss: 0.4532 - accuracy: 0.7945 - val_loss: 0.4026 - val_accuracy: 0.8280\n",
      "Epoch 12/100\n",
      "616/616 [==============================] - 56683s 92s/step - loss: 0.4367 - accuracy: 0.8064 - val_loss: 0.5334 - val_accuracy: 0.7865\n",
      "Epoch 13/100\n",
      "616/616 [==============================] - 2620s 4s/step - loss: 0.4240 - accuracy: 0.8100 - val_loss: 0.3416 - val_accuracy: 0.8630\n",
      "Epoch 14/100\n",
      "616/616 [==============================] - 2636s 4s/step - loss: 0.4237 - accuracy: 0.8150 - val_loss: 0.4013 - val_accuracy: 0.8210\n",
      "Epoch 15/100\n",
      "616/616 [==============================] - 2687s 4s/step - loss: 0.4026 - accuracy: 0.8273 - val_loss: 2.6008 - val_accuracy: 0.5861\n",
      "Epoch 16/100\n",
      "616/616 [==============================] - 2730s 4s/step - loss: 0.3962 - accuracy: 0.8269 - val_loss: 0.4053 - val_accuracy: 0.8142\n",
      "Epoch 17/100\n",
      "616/616 [==============================] - 2947s 5s/step - loss: 0.3895 - accuracy: 0.8369 - val_loss: 0.3827 - val_accuracy: 0.8634\n",
      "Epoch 18/100\n",
      "616/616 [==============================] - 2699s 4s/step - loss: 0.3924 - accuracy: 0.8349 - val_loss: 0.2882 - val_accuracy: 0.8874\n",
      "Epoch 19/100\n",
      "616/616 [==============================] - 2651s 4s/step - loss: 0.3884 - accuracy: 0.8358 - val_loss: 0.4752 - val_accuracy: 0.8027\n",
      "Epoch 20/100\n",
      "616/616 [==============================] - 2716s 4s/step - loss: 0.3804 - accuracy: 0.8426 - val_loss: 0.2893 - val_accuracy: 0.8775\n",
      "Epoch 21/100\n",
      "616/616 [==============================] - 2705s 4s/step - loss: 0.3634 - accuracy: 0.8484 - val_loss: 0.3288 - val_accuracy: 0.8808\n",
      "Epoch 22/100\n",
      "616/616 [==============================] - 2845s 5s/step - loss: 0.3652 - accuracy: 0.8472 - val_loss: 2.5297 - val_accuracy: 0.7190\n",
      "Epoch 23/100\n",
      "616/616 [==============================] - 2721s 4s/step - loss: 0.3676 - accuracy: 0.8449 - val_loss: 0.5165 - val_accuracy: 0.8156\n",
      "Epoch 24/100\n",
      "616/616 [==============================] - 2771s 4s/step - loss: 0.3616 - accuracy: 0.8479 - val_loss: 0.4965 - val_accuracy: 0.7959\n",
      "Epoch 25/100\n",
      "616/616 [==============================] - 2789s 5s/step - loss: 0.3553 - accuracy: 0.8524 - val_loss: 0.2746 - val_accuracy: 0.8899\n",
      "Epoch 26/100\n",
      "616/616 [==============================] - 2772s 4s/step - loss: 0.3599 - accuracy: 0.8495 - val_loss: 0.3201 - val_accuracy: 0.8806\n",
      "Epoch 27/100\n",
      "616/616 [==============================] - 2765s 4s/step - loss: 0.3598 - accuracy: 0.8481 - val_loss: 0.2933 - val_accuracy: 0.8870\n",
      "Epoch 28/100\n",
      "616/616 [==============================] - 2782s 5s/step - loss: 0.3542 - accuracy: 0.8473 - val_loss: 0.2659 - val_accuracy: 0.8942\n",
      "Epoch 29/100\n",
      "616/616 [==============================] - 2763s 4s/step - loss: 0.3556 - accuracy: 0.8497 - val_loss: 0.7620 - val_accuracy: 0.8084\n",
      "Epoch 30/100\n",
      "616/616 [==============================] - 2859s 5s/step - loss: 0.3446 - accuracy: 0.8574 - val_loss: 0.2127 - val_accuracy: 0.9201\n",
      "Epoch 31/100\n",
      "616/616 [==============================] - 2784s 5s/step - loss: 0.3460 - accuracy: 0.8592 - val_loss: 0.3801 - val_accuracy: 0.8800\n",
      "Epoch 32/100\n",
      "616/616 [==============================] - 2762s 4s/step - loss: 0.3446 - accuracy: 0.8548 - val_loss: 0.2569 - val_accuracy: 0.9011\n",
      "Epoch 33/100\n",
      "616/616 [==============================] - 2779s 5s/step - loss: 0.3529 - accuracy: 0.8543 - val_loss: 0.3136 - val_accuracy: 0.8762\n",
      "Epoch 34/100\n",
      "616/616 [==============================] - 2768s 4s/step - loss: 0.3342 - accuracy: 0.8627 - val_loss: 0.2332 - val_accuracy: 0.9109\n",
      "Epoch 35/100\n",
      "616/616 [==============================] - 2772s 4s/step - loss: 0.3397 - accuracy: 0.8583 - val_loss: 0.2227 - val_accuracy: 0.9135\n",
      "Epoch 36/100\n",
      "616/616 [==============================] - 2778s 5s/step - loss: 0.3268 - accuracy: 0.8638 - val_loss: 0.4043 - val_accuracy: 0.8567\n",
      "Epoch 37/100\n",
      "616/616 [==============================] - 2766s 4s/step - loss: 0.3287 - accuracy: 0.8663 - val_loss: 0.2938 - val_accuracy: 0.8828\n",
      "Epoch 38/100\n",
      "616/616 [==============================] - 2786s 5s/step - loss: 0.3361 - accuracy: 0.8642 - val_loss: 0.7696 - val_accuracy: 0.6158\n",
      "Epoch 39/100\n",
      "616/616 [==============================] - 2786s 5s/step - loss: 0.3329 - accuracy: 0.8627 - val_loss: 0.2721 - val_accuracy: 0.8872\n",
      "Epoch 40/100\n",
      "616/616 [==============================] - 2763s 4s/step - loss: 0.3326 - accuracy: 0.8658 - val_loss: 0.7923 - val_accuracy: 0.7262\n",
      "Epoch 40: early stopping\n"
     ]
    }
   ],
   "source": [
    "# Train the model\n",
    "hist= model.fit(training_set, epochs = 100, validation_data = test_set,callbacks=[callback])"
   ]
  },
  {
   "cell_type": "code",
   "execution_count": 40,
   "id": "7840c689",
   "metadata": {},
   "outputs": [],
   "source": []
  },
  {
   "cell_type": "code",
   "execution_count": 8,
   "id": "bf295a6f",
   "metadata": {},
   "outputs": [],
   "source": [
    "import matplotlib.pyplot as plt"
   ]
  },
  {
   "cell_type": "code",
   "execution_count": 10,
   "id": "2a43cfe7",
   "metadata": {},
   "outputs": [
    {
     "data": {
      "image/png": "[encoded data removed]",
      "text/plain": [
       "<Figure size 640x480 with 1 Axes>"
      ]
     },
     "metadata": {},
     "output_type": "display_data"
    },
    {
     "data": {
      "image/png": "[encoded data removed]",
      "text/plain": [
       "<Figure size 640x480 with 1 Axes>"
      ]
     },
     "metadata": {},
     "output_type": "display_data"
    }
   ],
   "source": [
    "acc = hist.history['accuracy']\n",
    "val_acc = hist.history['val_accuracy']\n",
    "loss = hist.history['loss']\n",
    "val_loss = hist.history['val_loss']\n",
    "epochs = range(40)\n",
    "plt.plot(epochs, acc, 'r', label='Training acc')\n",
    "plt.plot(epochs, val_acc, 'b', label='Validation acc')\n",
    "plt.title('Training and validation accuracy')\n",
    "plt.legend()\n",
    "plt.figure()\n",
    "plt.plot(epochs, loss, 'r', label='Training loss')\n",
    "plt.plot(epochs, val_loss, 'b', label='Validation loss')\n",
    "plt.title('Training and validation loss')\n",
    "plt.legend()\n",
    "plt.show()"
   ]
  },
  {
   "cell_type": "code",
   "execution_count": null,
   "id": "e09df1ce",
   "metadata": {},
   "outputs": [],
   "source": []
  },
  {
   "cell_type": "code",
   "execution_count": 11,
   "id": "12fd20ad",
   "metadata": {},
   "outputs": [
    {
     "name": "stdout",
     "output_type": "stream",
     "text": [
      "331/331 [==============================] - 194s 586ms/step - loss: 0.7923 - accuracy: 0.7262\n",
      "Test loss: 0.7922741174697876\n",
      "Test accuracy: 0.726162314414978\n"
     ]
    }
   ],
   "source": [
    "# Evaluate the model\n",
    "test_loss, test_accuracy = model.evaluate(test_set)\n",
    "print('Test loss:', test_loss)\n",
    "print('Test accuracy:', test_accuracy)"
   ]
  },
  {
   "cell_type": "code",
   "execution_count": null,
   "id": "89acab17",
   "metadata": {
    "scrolled": true
   },
   "outputs": [],
   "source": []
  },
  {
   "cell_type": "code",
   "execution_count": null,
   "id": "5072636a",
   "metadata": {},
   "outputs": [],
   "source": []
  },
  {
   "cell_type": "code",
   "execution_count": 12,
   "id": "752914fa",
   "metadata": {},
   "outputs": [],
   "source": [
    "classname=test_set.class_indices"
   ]
  },
  {
   "cell_type": "code",
   "execution_count": 13,
   "id": "2c0d7a34",
   "metadata": {},
   "outputs": [
    {
     "data": {
      "text/plain": [
       "{'nude': 0, 'safe': 1}"
      ]
     },
     "execution_count": 13,
     "metadata": {},
     "output_type": "execute_result"
    }
   ],
   "source": [
    "classname"
   ]
  },
  {
   "cell_type": "code",
   "execution_count": 14,
   "id": "1348fccd",
   "metadata": {},
   "outputs": [],
   "source": [
    "import numpy as np"
   ]
  },
  {
   "cell_type": "code",
   "execution_count": 15,
   "id": "5f785a97",
   "metadata": {},
   "outputs": [
    {
     "name": "stdout",
     "output_type": "stream",
     "text": [
      "1/1 [==============================] - 0s 422ms/step\n",
      "0.0\n",
      "nude\n"
     ]
    }
   ],
   "source": [
    "img = tf.keras.utils.load_img(\n",
    "    'F:/mk/nudeimages/adult.jpg', target_size=(256, 256)\n",
    ")\n",
    "img_array = tf.keras.utils.img_to_array(img)\n",
    "img_array = tf.expand_dims(img_array, 0) # Create a batch\n",
    "\n",
    "predictions = model.predict(img_array)\n",
    "print(predictions[0][0])\n",
    "\n",
    "if predictions[0][0]==1:\n",
    "    print('safe')\n",
    "else:\n",
    "    print('nude')"
   ]
  },
  {
   "cell_type": "code",
   "execution_count": 16,
   "id": "61ec41aa",
   "metadata": {},
   "outputs": [
    {
     "name": "stdout",
     "output_type": "stream",
     "text": [
      "1/1 [==============================] - 0s 60ms/step\n",
      "0.0\n",
      "nude\n"
     ]
    }
   ],
   "source": [
    "img = tf.keras.utils.load_img(\n",
    "    'F:/mk/nudeimages/adult3.jpg', target_size=(256, 256)\n",
    ")\n",
    "img_array = tf.keras.utils.img_to_array(img)\n",
    "img_array = tf.expand_dims(img_array, 0) # Create a batch\n",
    "\n",
    "predictions = model.predict(img_array)\n",
    "print(predictions[0][0])\n",
    "\n",
    "if predictions[0][0]==1:\n",
    "    print('safe')\n",
    "else:\n",
    "    print('nude')"
   ]
  },
  {
   "cell_type": "code",
   "execution_count": 17,
   "id": "43bbbf7f",
   "metadata": {},
   "outputs": [
    {
     "name": "stdout",
     "output_type": "stream",
     "text": [
      "1/1 [==============================] - 0s 164ms/step\n",
      "0.0\n",
      "nude\n"
     ]
    }
   ],
   "source": [
    "img = tf.keras.utils.load_img(\n",
    "    'F:/mk/nudeimages/adult4.jpg', target_size=(256, 256)\n",
    ")\n",
    "img_array = tf.keras.utils.img_to_array(img)\n",
    "img_array = tf.expand_dims(img_array, 0) # Create a batch\n",
    "\n",
    "predictions = model.predict(img_array)\n",
    "print(predictions[0][0])\n",
    "\n",
    "if predictions[0][0]==1:\n",
    "    print('safe')\n",
    "else:\n",
    "    print('nude')"
   ]
  },
  {
   "cell_type": "code",
   "execution_count": 18,
   "id": "9f1c2ee0",
   "metadata": {},
   "outputs": [
    {
     "name": "stdout",
     "output_type": "stream",
     "text": [
      "1/1 [==============================] - 0s 112ms/step\n",
      "0.0\n",
      "nude\n"
     ]
    }
   ],
   "source": [
    "img = tf.keras.utils.load_img(\n",
    "    'F:/mk/nudeimages/adult6.jpg', target_size=(256, 256)\n",
    ")\n",
    "img_array = tf.keras.utils.img_to_array(img)\n",
    "img_array = tf.expand_dims(img_array, 0) # Create a batch\n",
    "\n",
    "predictions = model.predict(img_array)\n",
    "print(predictions[0][0])\n",
    "\n",
    "if predictions[0][0]==1:\n",
    "    print('safe')\n",
    "else:\n",
    "    print('nude')"
   ]
  },
  {
   "cell_type": "code",
   "execution_count": 19,
   "id": "5082bd91",
   "metadata": {},
   "outputs": [
    {
     "name": "stdout",
     "output_type": "stream",
     "text": [
      "1/1 [==============================] - 0s 62ms/step\n",
      "0.0\n",
      "nude\n"
     ]
    }
   ],
   "source": [
    "img = tf.keras.utils.load_img(\n",
    "    'F:/mk/nudeimages/adult7.jpg', target_size=(256, 256)\n",
    ")\n",
    "img_array = tf.keras.utils.img_to_array(img)\n",
    "img_array = tf.expand_dims(img_array, 0) # Create a batch\n",
    "\n",
    "predictions = model.predict(img_array)\n",
    "print(predictions[0][0])\n",
    "\n",
    "if predictions[0][0]==1:\n",
    "    print('safe')\n",
    "else:\n",
    "    print('nude')"
   ]
  },
  {
   "cell_type": "code",
   "execution_count": 20,
   "id": "5778d348",
   "metadata": {},
   "outputs": [
    {
     "name": "stdout",
     "output_type": "stream",
     "text": [
      "1/1 [==============================] - 0s 94ms/step\n",
      "0.0\n",
      "nude\n"
     ]
    }
   ],
   "source": [
    "img = tf.keras.utils.load_img(\n",
    "    'F:/mk/nudeimages/download.jpg', target_size=(256, 256)\n",
    ")\n",
    "img_array = tf.keras.utils.img_to_array(img)\n",
    "img_array = tf.expand_dims(img_array, 0) # Create a batch\n",
    "\n",
    "predictions = model.predict(img_array)\n",
    "print(predictions[0][0])\n",
    "\n",
    "if predictions[0][0]==1:\n",
    "    print('safe')\n",
    "else:\n",
    "    print('nude')"
   ]
  },
  {
   "cell_type": "code",
   "execution_count": 21,
   "id": "a8445c79",
   "metadata": {},
   "outputs": [
    {
     "name": "stdout",
     "output_type": "stream",
     "text": [
      "1/1 [==============================] - 0s 98ms/step\n",
      "0.0\n",
      "nude\n"
     ]
    }
   ],
   "source": [
    "img = tf.keras.utils.load_img(\n",
    "    'F:/mk/nudeimages/download2.jpg', target_size=(256, 256)\n",
    ")\n",
    "img_array = tf.keras.utils.img_to_array(img)\n",
    "img_array = tf.expand_dims(img_array, 0) # Create a batch\n",
    "\n",
    "predictions = model.predict(img_array)\n",
    "print(predictions[0][0])\n",
    "\n",
    "if predictions[0][0]==1:\n",
    "    print('safe')\n",
    "else:\n",
    "    print('nude')"
   ]
  },
  {
   "cell_type": "code",
   "execution_count": 22,
   "id": "811569b9",
   "metadata": {},
   "outputs": [
    {
     "name": "stdout",
     "output_type": "stream",
     "text": [
      "1/1 [==============================] - 0s 189ms/step\n",
      "0.0\n",
      "nude\n"
     ]
    }
   ],
   "source": [
    "img = tf.keras.utils.load_img(\n",
    "    'F:/mk/nudeimages/download3.jpg', target_size=(256, 256)\n",
    ")\n",
    "img_array = tf.keras.utils.img_to_array(img)\n",
    "img_array = tf.expand_dims(img_array, 0) # Create a batch\n",
    "\n",
    "predictions = model.predict(img_array)\n",
    "print(predictions[0][0])\n",
    "\n",
    "if predictions[0][0]==1:\n",
    "    print('safe')\n",
    "else:\n",
    "    print('nude')"
   ]
  },
  {
   "cell_type": "code",
   "execution_count": 23,
   "id": "50c27ced",
   "metadata": {},
   "outputs": [
    {
     "name": "stdout",
     "output_type": "stream",
     "text": [
      "1/1 [==============================] - 0s 206ms/step\n",
      "0.0\n",
      "nude\n"
     ]
    }
   ],
   "source": [
    "img = tf.keras.utils.load_img(\n",
    "    'F:/mk/nudeimages/images.jpg', target_size=(256, 256)\n",
    ")\n",
    "img_array = tf.keras.utils.img_to_array(img)\n",
    "img_array = tf.expand_dims(img_array, 0) # Create a batch\n",
    "\n",
    "predictions = model.predict(img_array)\n",
    "print(predictions[0][0])\n",
    "\n",
    "if predictions[0][0]==1:\n",
    "    print('safe')\n",
    "else:\n",
    "    print('nude')"
   ]
  },
  {
   "cell_type": "code",
   "execution_count": 24,
   "id": "aad2eeb7",
   "metadata": {},
   "outputs": [
    {
     "name": "stdout",
     "output_type": "stream",
     "text": [
      "1/1 [==============================] - 0s 128ms/step\n",
      "0.0\n",
      "nude\n"
     ]
    }
   ],
   "source": [
    "img = tf.keras.utils.load_img(\n",
    "    'F:/mk/nudeimages/images2.jpg', target_size=(256, 256)\n",
    ")\n",
    "img_array = tf.keras.utils.img_to_array(img)\n",
    "img_array = tf.expand_dims(img_array, 0) # Create a batch\n",
    "\n",
    "predictions = model.predict(img_array)\n",
    "print(predictions[0][0])\n",
    "\n",
    "if predictions[0][0]==1:\n",
    "    print('safe')\n",
    "else:\n",
    "    print('nude')"
   ]
  },
  {
   "cell_type": "code",
   "execution_count": 37,
   "id": "2e24c16b",
   "metadata": {},
   "outputs": [
    {
     "name": "stdout",
     "output_type": "stream",
     "text": [
      "1/1 [==============================] - 1s 534ms/step\n",
      "0.0\n",
      "nude\n"
     ]
    }
   ],
   "source": [
    "img = tf.keras.utils.load_img(\n",
    "    'F:/mk/nudeimages/safe4.jpg', target_size=(256, 256)\n",
    ")\n",
    "img_array = tf.keras.utils.img_to_array(img)\n",
    "img_array = tf.expand_dims(img_array, 0) # Create a batch\n",
    "\n",
    "predictions = model.predict(img_array)\n",
    "print(predictions[0][0])\n",
    "\n",
    "if predictions[0][0]==1:\n",
    "    print('safe')\n",
    "else:\n",
    "    print('nude')"
   ]
  },
  {
   "cell_type": "code",
   "execution_count": 38,
   "id": "01aa9ca9",
   "metadata": {},
   "outputs": [
    {
     "name": "stdout",
     "output_type": "stream",
     "text": [
      "1/1 [==============================] - 0s 406ms/step\n",
      "0.0\n",
      "nude\n"
     ]
    }
   ],
   "source": [
    "img = tf.keras.utils.load_img(\n",
    "    'F:/mk/nudeimages/nadult4.jpg', target_size=(256, 256)\n",
    ")\n",
    "img_array = tf.keras.utils.img_to_array(img)\n",
    "img_array = tf.expand_dims(img_array, 0) # Create a batch\n",
    "\n",
    "predictions = model.predict(img_array)\n",
    "print(predictions[0][0])\n",
    "\n",
    "if predictions[0][0]==1:\n",
    "    print('safe')\n",
    "else:\n",
    "    print('nude')"
   ]
  },
  {
   "cell_type": "code",
   "execution_count": 35,
   "id": "db2f59c4",
   "metadata": {},
   "outputs": [
    {
     "name": "stdout",
     "output_type": "stream",
     "text": [
      "1/1 [==============================] - 1s 1s/step\n",
      "0.0\n",
      "nude\n"
     ]
    }
   ],
   "source": [
    "img = tf.keras.utils.load_img(\n",
    "    'F:/mk/nudeimages/safe.jpg', target_size=(256, 256)\n",
    ")\n",
    "img_array = tf.keras.utils.img_to_array(img)\n",
    "img_array = tf.expand_dims(img_array, 0) # Create a batch\n",
    "\n",
    "predictions = model.predict(img_array)\n",
    "print(predictions[0][0])\n",
    "\n",
    "if predictions[0][0]==1:\n",
    "    print('safe')\n",
    "else:\n",
    "    print('nude')"
   ]
  },
  {
   "cell_type": "code",
   "execution_count": 39,
   "id": "eb056e25",
   "metadata": {},
   "outputs": [
    {
     "name": "stdout",
     "output_type": "stream",
     "text": [
      "1/1 [==============================] - 0s 445ms/step\n",
      "0.0\n",
      "nude\n"
     ]
    }
   ],
   "source": [
    "img = tf.keras.utils.load_img(\n",
    "    'F:/mk/nudeimages/safe2.jpg', target_size=(256, 256)\n",
    ")\n",
    "img_array = tf.keras.utils.img_to_array(img)\n",
    "img_array = tf.expand_dims(img_array, 0) # Create a batch\n",
    "\n",
    "predictions = model.predict(img_array)\n",
    "print(predictions[0][0])\n",
    "\n",
    "if predictions[0][0]==1:\n",
    "    print('safe')\n",
    "else:\n",
    "    print('nude')"
   ]
  },
  {
   "cell_type": "code",
   "execution_count": 40,
   "id": "7d88d718",
   "metadata": {},
   "outputs": [
    {
     "name": "stdout",
     "output_type": "stream",
     "text": [
      "1/1 [==============================] - 0s 376ms/step\n",
      "0.0\n",
      "nude\n"
     ]
    }
   ],
   "source": [
    "img = tf.keras.utils.load_img(\n",
    "    'F:/mk/nudeimages/safe.jpg', target_size=(256, 256)\n",
    ")\n",
    "img_array = tf.keras.utils.img_to_array(img)\n",
    "img_array = tf.expand_dims(img_array, 0) # Create a batch\n",
    "\n",
    "predictions = model.predict(img_array)\n",
    "print(predictions[0][0])\n",
    "\n",
    "if predictions[0][0]==1:\n",
    "    print('safe')\n",
    "else:\n",
    "    print('nude')"
   ]
  },
  {
   "cell_type": "code",
   "execution_count": 41,
   "id": "f1dd6267",
   "metadata": {},
   "outputs": [
    {
     "name": "stdout",
     "output_type": "stream",
     "text": [
      "1/1 [==============================] - 1s 504ms/step\n",
      "0.0\n",
      "nude\n"
     ]
    }
   ],
   "source": [
    "img = tf.keras.utils.load_img(\n",
    "    'F:/mk/nudeimages/safe3.jpg', target_size=(256, 256)\n",
    ")\n",
    "img_array = tf.keras.utils.img_to_array(img)\n",
    "img_array = tf.expand_dims(img_array, 0) # Create a batch\n",
    "\n",
    "predictions = model.predict(img_array)\n",
    "print(predictions[0][0])\n",
    "\n",
    "if predictions[0][0]==1:\n",
    "    print('safe')\n",
    "else:\n",
    "    print('nude')"
   ]
  },
  {
   "cell_type": "code",
   "execution_count": 42,
   "id": "c2d0f516",
   "metadata": {},
   "outputs": [],
   "source": [
    "model.save('BNnewnude.h5')"
   ]
  },
  {
   "cell_type": "code",
   "execution_count": null,
   "id": "4412cea5",
   "metadata": {},
   "outputs": [],
   "source": []
  },
  {
   "cell_type": "code",
   "execution_count": null,
   "id": "56c3039f",
   "metadata": {},
   "outputs": [],
   "source": []
  },
  {
   "cell_type": "code",
   "execution_count": null,
   "id": "b7bc94b5",
   "metadata": {},
   "outputs": [],
   "source": []
  },
  {
   "cell_type": "code",
   "execution_count": null,
   "id": "65f3708b",
   "metadata": {},
   "outputs": [],
   "source": []
  },
  {
   "cell_type": "code",
   "execution_count": null,
   "id": "bd314bab",
   "metadata": {},
   "outputs": [],
   "source": []
  },
  {
   "cell_type": "code",
   "execution_count": null,
   "id": "68dec016",
   "metadata": {},
   "outputs": [],
   "source": []
  },
  {
   "cell_type": "code",
   "execution_count": null,
   "id": "a25556ee",
   "metadata": {},
   "outputs": [],
   "source": []
  },
  {
   "cell_type": "code",
   "execution_count": null,
   "id": "cc8dd71a",
   "metadata": {},
   "outputs": [],
   "source": []
  },
  {
   "cell_type": "code",
   "execution_count": null,
   "id": "0baf0383",
   "metadata": {},
   "outputs": [],
   "source": []
  },
  {
   "cell_type": "code",
   "execution_count": null,
   "id": "c9a1f4b6",
   "metadata": {},
   "outputs": [],
   "source": []
  }
 ],
 "metadata": {
  "kernelspec": {
   "display_name": "python (dl)",
   "language": "python",
   "name": "dl"
  },
  "language_info": {
   "codemirror_mode": {
    "name": "ipython",
    "version": 3
   },
   "file_extension": ".py",
   "mimetype": "text/x-python",
   "name": "python",
   "nbconvert_exporter": "python",
   "pygments_lexer": "ipython3",
   "version": "3.10.9"
  }
 },
 "nbformat": 4,
 "nbformat_minor": 5
}
